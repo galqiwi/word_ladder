{
 "cells": [
  {
   "cell_type": "code",
   "execution_count": null,
   "id": "0a801f7c-41ff-4a66-ae46-82e7cb724434",
   "metadata": {},
   "outputs": [],
   "source": [
    "!wget https://github.com/danakt/russian-words/raw/master/russian.txt"
   ]
  },
  {
   "cell_type": "code",
   "execution_count": 1,
   "id": "626ebf60-537c-4656-a07d-ea1fa37f025e",
   "metadata": {},
   "outputs": [],
   "source": [
    "with open('russian.txt', 'r', encoding='windows-1251') as file:\n",
    "    words = list(file)"
   ]
  },
  {
   "cell_type": "code",
   "execution_count": 2,
   "id": "5bb085d7-7555-4c00-9c53-389dd445b493",
   "metadata": {},
   "outputs": [],
   "source": [
    "words = [word.replace('\\n', '') for word in words]"
   ]
  },
  {
   "cell_type": "code",
   "execution_count": 3,
   "id": "9ffe72e7-fc0f-4849-b0fb-8641bd2fc9b5",
   "metadata": {},
   "outputs": [
    {
     "data": {
      "text/plain": [
       "'почек'"
      ]
     },
     "execution_count": 3,
     "metadata": {},
     "output_type": "execute_result"
    }
   ],
   "source": [
    "words[1000000]"
   ]
  },
  {
   "cell_type": "code",
   "execution_count": 4,
   "id": "6d69e35f-4395-4238-a40c-f29e450612cd",
   "metadata": {},
   "outputs": [],
   "source": [
    "words = [word.lower() for word in words if len(word) == 5]\n",
    "words = sorted(set(words))"
   ]
  },
  {
   "cell_type": "code",
   "execution_count": 5,
   "id": "d4656607-fc35-4cf5-bc3f-8fadba0eaffb",
   "metadata": {},
   "outputs": [
    {
     "data": {
      "text/plain": [
       "26514"
      ]
     },
     "execution_count": 5,
     "metadata": {},
     "output_type": "execute_result"
    }
   ],
   "source": [
    "len(words)"
   ]
  },
  {
   "cell_type": "code",
   "execution_count": 6,
   "id": "6f7f7752-4421-428e-8985-b0a2aa9ca097",
   "metadata": {},
   "outputs": [],
   "source": [
    "words = sorted(words)"
   ]
  },
  {
   "cell_type": "code",
   "execution_count": 7,
   "id": "ec62b1a4-7a8b-4863-897a-3d50b536a4c5",
   "metadata": {},
   "outputs": [],
   "source": [
    "alphabet = sorted(set(''.join(words)))"
   ]
  },
  {
   "cell_type": "code",
   "execution_count": 8,
   "id": "44a6c9a8-803c-444f-a57a-7d60191c5282",
   "metadata": {},
   "outputs": [
    {
     "name": "stderr",
     "output_type": "stream",
     "text": [
      "100%|███████████████████████| 26514/26514 [00:01<00:00, 13902.67it/s]\n"
     ]
    }
   ],
   "source": [
    "import tqdm\n",
    "from itertools import product\n",
    "\n",
    "next_by_prev = {}\n",
    "\n",
    "words_set = set(words)\n",
    "\n",
    "for word in tqdm.tqdm(words):\n",
    "    word_list = []\n",
    "    for idx, letter in product(range(5), alphabet):\n",
    "        new_word = word[:idx] + letter + word[idx + 1:]\n",
    "        if new_word not in words_set:\n",
    "            continue\n",
    "        if new_word == word:\n",
    "            continue\n",
    "        word_list.append(new_word)\n",
    "    \n",
    "    next_by_prev[word] = sorted(word_list)"
   ]
  },
  {
   "cell_type": "code",
   "execution_count": 44,
   "id": "0565d0fd-a221-4559-824d-0d8cb5d8848f",
   "metadata": {},
   "outputs": [],
   "source": [
    "start = 'лидер'\n",
    "end = 'ларец'\n",
    "assert start in words\n",
    "assert end in words"
   ]
  },
  {
   "cell_type": "code",
   "execution_count": 45,
   "id": "f5fc0af8-3d36-4e9c-8482-ad6fd3cf863f",
   "metadata": {},
   "outputs": [],
   "source": [
    "import copy\n",
    "\n",
    "def extend_chains(chains):\n",
    "    output_by_last_word = {}\n",
    "    for chain in chains:\n",
    "        last_word = chain[-1]\n",
    "        for new_word in next_by_prev[last_word]:\n",
    "            output_by_last_word[new_word] = chain + [new_word]\n",
    "    return list(output_by_last_word.values())"
   ]
  },
  {
   "cell_type": "code",
   "execution_count": 50,
   "id": "f2c14ed6-f2ac-4bcd-b0d5-f47e58fa27e9",
   "metadata": {},
   "outputs": [
    {
     "name": "stdout",
     "output_type": "stream",
     "text": [
      "332 112\n",
      "['лидер', 'литер', 'лютер', 'лютей', 'людей', 'ладей', 'ларей', 'ларец']\n"
     ]
    }
   ],
   "source": [
    "start_chains = [[start]]\n",
    "end_chains = [[end]]\n",
    "\n",
    "for _ in range(4):\n",
    "    start_chains = extend_chains(start_chains)\n",
    "\n",
    "for _ in range(3):\n",
    "    end_chains = extend_chains(end_chains)\n",
    "\n",
    "end_chains_by_last_word = {\n",
    "    chain[-1]: chain for chain in end_chains\n",
    "}\n",
    "print(len(start_chains), len(end_chains))\n",
    "\n",
    "for start_chain in start_chains:\n",
    "    if start_chain[-1] not in end_chains_by_last_word:\n",
    "        continue\n",
    "    print(start_chain[:-1] + end_chains_by_last_word[start_chain[-1]][::-1])"
   ]
  }
 ],
 "metadata": {
  "kernelspec": {
   "display_name": "Python 3 (ipykernel)",
   "language": "python",
   "name": "python3"
  },
  "language_info": {
   "codemirror_mode": {
    "name": "ipython",
    "version": 3
   },
   "file_extension": ".py",
   "mimetype": "text/x-python",
   "name": "python",
   "nbconvert_exporter": "python",
   "pygments_lexer": "ipython3",
   "version": "3.10.12"
  }
 },
 "nbformat": 4,
 "nbformat_minor": 5
}
